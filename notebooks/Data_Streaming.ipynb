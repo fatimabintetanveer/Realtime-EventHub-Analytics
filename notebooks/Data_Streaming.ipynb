{
  "nbformat": 4,
  "nbformat_minor": 0,
  "metadata": {
    "colab": {
      "provenance": []
    },
    "kernelspec": {
      "name": "python3",
      "display_name": "Python 3"
    },
    "language_info": {
      "name": "python"
    }
  },
  "cells": [
    {
      "cell_type": "code",
      "execution_count": 2,
      "metadata": {
        "colab": {
          "base_uri": "https://localhost:8080/"
        },
        "collapsed": true,
        "id": "xPbJT04DtQw5",
        "outputId": "467653af-09d1-4fcf-81dc-f222255d9fe5"
      },
      "outputs": [
        {
          "output_type": "stream",
          "name": "stdout",
          "text": [
            "Collecting azure-eventhub\n",
            "  Downloading azure_eventhub-5.12.1-py3-none-any.whl.metadata (68 kB)\n",
            "\u001b[?25l     \u001b[90m━━━━━━━━━━━━━━━━━━━━━━━━━━━━━━━━━━━━━━━━\u001b[0m \u001b[32m0.0/68.0 kB\u001b[0m \u001b[31m?\u001b[0m eta \u001b[36m-:--:--\u001b[0m\r\u001b[2K     \u001b[90m━━━━━━━━━━━━━━━━━━━━━━━━━━━━━━━━━━━━━━━━\u001b[0m \u001b[32m68.0/68.0 kB\u001b[0m \u001b[31m2.9 MB/s\u001b[0m eta \u001b[36m0:00:00\u001b[0m\n",
            "\u001b[?25hCollecting azure-core>=1.14.0 (from azure-eventhub)\n",
            "  Downloading azure_core-1.30.2-py3-none-any.whl.metadata (37 kB)\n",
            "Requirement already satisfied: typing-extensions>=4.0.1 in /usr/local/lib/python3.10/dist-packages (from azure-eventhub) (4.12.2)\n",
            "Requirement already satisfied: requests>=2.21.0 in /usr/local/lib/python3.10/dist-packages (from azure-core>=1.14.0->azure-eventhub) (2.32.3)\n",
            "Requirement already satisfied: six>=1.11.0 in /usr/local/lib/python3.10/dist-packages (from azure-core>=1.14.0->azure-eventhub) (1.16.0)\n",
            "Requirement already satisfied: charset-normalizer<4,>=2 in /usr/local/lib/python3.10/dist-packages (from requests>=2.21.0->azure-core>=1.14.0->azure-eventhub) (3.3.2)\n",
            "Requirement already satisfied: idna<4,>=2.5 in /usr/local/lib/python3.10/dist-packages (from requests>=2.21.0->azure-core>=1.14.0->azure-eventhub) (3.8)\n",
            "Requirement already satisfied: urllib3<3,>=1.21.1 in /usr/local/lib/python3.10/dist-packages (from requests>=2.21.0->azure-core>=1.14.0->azure-eventhub) (2.0.7)\n",
            "Requirement already satisfied: certifi>=2017.4.17 in /usr/local/lib/python3.10/dist-packages (from requests>=2.21.0->azure-core>=1.14.0->azure-eventhub) (2024.7.4)\n",
            "Downloading azure_eventhub-5.12.1-py3-none-any.whl (325 kB)\n",
            "\u001b[2K   \u001b[90m━━━━━━━━━━━━━━━━━━━━━━━━━━━━━━━━━━━━━━━━\u001b[0m \u001b[32m325.1/325.1 kB\u001b[0m \u001b[31m14.2 MB/s\u001b[0m eta \u001b[36m0:00:00\u001b[0m\n",
            "\u001b[?25hDownloading azure_core-1.30.2-py3-none-any.whl (194 kB)\n",
            "\u001b[2K   \u001b[90m━━━━━━━━━━━━━━━━━━━━━━━━━━━━━━━━━━━━━━━━\u001b[0m \u001b[32m194.3/194.3 kB\u001b[0m \u001b[31m13.8 MB/s\u001b[0m eta \u001b[36m0:00:00\u001b[0m\n",
            "\u001b[?25hInstalling collected packages: azure-core, azure-eventhub\n",
            "Successfully installed azure-core-1.30.2 azure-eventhub-5.12.1\n",
            "Collecting azure-identity\n",
            "  Downloading azure_identity-1.17.1-py3-none-any.whl.metadata (79 kB)\n",
            "\u001b[2K     \u001b[90m━━━━━━━━━━━━━━━━━━━━━━━━━━━━━━━━━━━━━━━━\u001b[0m \u001b[32m79.4/79.4 kB\u001b[0m \u001b[31m2.7 MB/s\u001b[0m eta \u001b[36m0:00:00\u001b[0m\n",
            "\u001b[?25hRequirement already satisfied: azure-core>=1.23.0 in /usr/local/lib/python3.10/dist-packages (from azure-identity) (1.30.2)\n",
            "Requirement already satisfied: cryptography>=2.5 in /usr/local/lib/python3.10/dist-packages (from azure-identity) (43.0.0)\n",
            "Collecting msal>=1.24.0 (from azure-identity)\n",
            "  Downloading msal-1.30.0-py3-none-any.whl.metadata (11 kB)\n",
            "Collecting msal-extensions>=0.3.0 (from azure-identity)\n",
            "  Downloading msal_extensions-1.2.0-py3-none-any.whl.metadata (7.6 kB)\n",
            "Requirement already satisfied: typing-extensions>=4.0.0 in /usr/local/lib/python3.10/dist-packages (from azure-identity) (4.12.2)\n",
            "Requirement already satisfied: requests>=2.21.0 in /usr/local/lib/python3.10/dist-packages (from azure-core>=1.23.0->azure-identity) (2.32.3)\n",
            "Requirement already satisfied: six>=1.11.0 in /usr/local/lib/python3.10/dist-packages (from azure-core>=1.23.0->azure-identity) (1.16.0)\n",
            "Requirement already satisfied: cffi>=1.12 in /usr/local/lib/python3.10/dist-packages (from cryptography>=2.5->azure-identity) (1.17.0)\n",
            "Requirement already satisfied: PyJWT<3,>=1.0.0 in /usr/local/lib/python3.10/dist-packages (from PyJWT[crypto]<3,>=1.0.0->msal>=1.24.0->azure-identity) (2.9.0)\n",
            "Collecting portalocker<3,>=1.4 (from msal-extensions>=0.3.0->azure-identity)\n",
            "  Downloading portalocker-2.10.1-py3-none-any.whl.metadata (8.5 kB)\n",
            "Requirement already satisfied: pycparser in /usr/local/lib/python3.10/dist-packages (from cffi>=1.12->cryptography>=2.5->azure-identity) (2.22)\n",
            "Requirement already satisfied: charset-normalizer<4,>=2 in /usr/local/lib/python3.10/dist-packages (from requests>=2.21.0->azure-core>=1.23.0->azure-identity) (3.3.2)\n",
            "Requirement already satisfied: idna<4,>=2.5 in /usr/local/lib/python3.10/dist-packages (from requests>=2.21.0->azure-core>=1.23.0->azure-identity) (3.8)\n",
            "Requirement already satisfied: urllib3<3,>=1.21.1 in /usr/local/lib/python3.10/dist-packages (from requests>=2.21.0->azure-core>=1.23.0->azure-identity) (2.0.7)\n",
            "Requirement already satisfied: certifi>=2017.4.17 in /usr/local/lib/python3.10/dist-packages (from requests>=2.21.0->azure-core>=1.23.0->azure-identity) (2024.7.4)\n",
            "Downloading azure_identity-1.17.1-py3-none-any.whl (173 kB)\n",
            "\u001b[2K   \u001b[90m━━━━━━━━━━━━━━━━━━━━━━━━━━━━━━━━━━━━━━━━\u001b[0m \u001b[32m173.2/173.2 kB\u001b[0m \u001b[31m7.9 MB/s\u001b[0m eta \u001b[36m0:00:00\u001b[0m\n",
            "\u001b[?25hDownloading msal-1.30.0-py3-none-any.whl (111 kB)\n",
            "\u001b[2K   \u001b[90m━━━━━━━━━━━━━━━━━━━━━━━━━━━━━━━━━━━━━━━━\u001b[0m \u001b[32m111.8/111.8 kB\u001b[0m \u001b[31m8.6 MB/s\u001b[0m eta \u001b[36m0:00:00\u001b[0m\n",
            "\u001b[?25hDownloading msal_extensions-1.2.0-py3-none-any.whl (19 kB)\n",
            "Downloading portalocker-2.10.1-py3-none-any.whl (18 kB)\n",
            "Installing collected packages: portalocker, msal, msal-extensions, azure-identity\n",
            "Successfully installed azure-identity-1.17.1 msal-1.30.0 msal-extensions-1.2.0 portalocker-2.10.1\n",
            "Requirement already satisfied: aiohttp in /usr/local/lib/python3.10/dist-packages (3.10.5)\n",
            "Requirement already satisfied: aiohappyeyeballs>=2.3.0 in /usr/local/lib/python3.10/dist-packages (from aiohttp) (2.4.0)\n",
            "Requirement already satisfied: aiosignal>=1.1.2 in /usr/local/lib/python3.10/dist-packages (from aiohttp) (1.3.1)\n",
            "Requirement already satisfied: attrs>=17.3.0 in /usr/local/lib/python3.10/dist-packages (from aiohttp) (24.2.0)\n",
            "Requirement already satisfied: frozenlist>=1.1.1 in /usr/local/lib/python3.10/dist-packages (from aiohttp) (1.4.1)\n",
            "Requirement already satisfied: multidict<7.0,>=4.5 in /usr/local/lib/python3.10/dist-packages (from aiohttp) (6.0.5)\n",
            "Requirement already satisfied: yarl<2.0,>=1.0 in /usr/local/lib/python3.10/dist-packages (from aiohttp) (1.9.4)\n",
            "Requirement already satisfied: async-timeout<5.0,>=4.0 in /usr/local/lib/python3.10/dist-packages (from aiohttp) (4.0.3)\n",
            "Requirement already satisfied: idna>=2.0 in /usr/local/lib/python3.10/dist-packages (from yarl<2.0,>=1.0->aiohttp) (3.8)\n"
          ]
        }
      ],
      "source": [
        "!pip install azure-eventhub\n",
        "!pip install azure-identity\n",
        "!pip install aiohttp"
      ]
    },
    {
      "cell_type": "code",
      "source": [
        "import asyncio\n",
        "from azure.eventhub.aio import EventHubProducerClient\n",
        "from azure.eventhub import EventData\n",
        "import json\n",
        "\n",
        "async def send_data_from_file(producer, file_path, delay_seconds=4):\n",
        "    with open(file_path) as f:\n",
        "        data = json.load(f)\n",
        "\n",
        "    for record in data:\n",
        "        # Create a batch for each record\n",
        "        event_data_batch = await producer.create_batch()\n",
        "        # Add the record to the batch\n",
        "        event_data_batch.add(EventData(json.dumps(record)))\n",
        "        # Send the batch of events to the event hub\n",
        "        await producer.send_batch(event_data_batch)\n",
        "        print(f\"Sent record: {record}\")\n",
        "        # Wait for the specified delay before sending the next record\n",
        "        await asyncio.sleep(delay_seconds)\n",
        "\n",
        "async def run():\n",
        "    producer = EventHubProducerClient.from_connection_string(\n",
        "        conn_str=\"Endpoint=sab://eh-datastreaming.servicebus.windows.net/;SharedAccessKeyName=new-policy;SharedAccessKey=mBImRDXwku55SjWpBuRPYR/OcXnENJqxk+AEhGatZD0=;EntityPath=eventhub-instance\",\n",
        "        eventhub_name=\"eventhub-instance\",\n",
        "    )\n",
        "    async with producer:\n",
        "        # Call the function to send data continuously\n",
        "        await send_data_from_file(producer, \"datastream.json\", delay_seconds=4)\n",
        "\n",
        "await run()\n"
      ],
      "metadata": {
        "colab": {
          "base_uri": "https://localhost:8080/"
        },
        "id": "4kAfL72yB6OG",
        "outputId": "c5dc48fd-769a-4e8f-cbab-3e6bd86818eb"
      },
      "execution_count": 8,
      "outputs": [
        {
          "output_type": "stream",
          "name": "stdout",
          "text": [
            "Sent record: {'idDrink': '1', 'strDrink': 'Mojito', 'dateModified': '2024-08-29T06:32:00'}\n",
            "Sent record: {'idDrink': '2', 'strDrink': 'Margarita', 'dateModified': '2024-08-29T06:33:00'}\n",
            "Sent record: {'idDrink': '3', 'strDrink': 'Martini', 'dateModified': '2024-08-29T06:34:00'}\n",
            "Sent record: {'idDrink': '4', 'strDrink': 'Old Fashioned', 'dateModified': '2024-08-29T06:35:00'}\n",
            "Sent record: {'idDrink': '5', 'strDrink': 'Whiskey Sour', 'dateModified': '2024-08-29T06:36:00'}\n",
            "Sent record: {'idDrink': '6', 'strDrink': 'Daiquiri', 'dateModified': '2024-08-29T06:37:00'}\n",
            "Sent record: {'idDrink': '7', 'strDrink': 'Cosmopolitan', 'dateModified': '2024-08-29T06:38:00'}\n",
            "Sent record: {'idDrink': '8', 'strDrink': 'Gin Tonic', 'dateModified': '2024-08-29T06:39:00'}\n",
            "Sent record: {'idDrink': '9', 'strDrink': 'Negroni', 'dateModified': '2024-08-29T06:40:00'}\n",
            "Sent record: {'idDrink': '10', 'strDrink': 'Mai Tai', 'dateModified': '2024-08-29T06:41:00'}\n",
            "Sent record: {'idDrink': '11', 'strDrink': 'Caipirinha', 'dateModified': '2024-08-29T06:42:00'}\n",
            "Sent record: {'idDrink': '12', 'strDrink': 'Tom Collins', 'dateModified': '2024-08-29T06:43:00'}\n",
            "Sent record: {'idDrink': '13', 'strDrink': 'Bloody Mary', 'dateModified': '2024-08-29T06:44:00'}\n",
            "Sent record: {'idDrink': '14', 'strDrink': 'Manhattan', 'dateModified': '2024-08-29T06:45:00'}\n",
            "Sent record: {'idDrink': '15', 'strDrink': 'Sidecar', 'dateModified': '2024-08-29T06:46:00'}\n",
            "Sent record: {'idDrink': '16', 'strDrink': 'Pina Colada', 'dateModified': '2024-08-29T06:47:00'}\n",
            "Sent record: {'idDrink': '17', 'strDrink': 'Sazerac', 'dateModified': '2024-08-29T06:48:00'}\n",
            "Sent record: {'idDrink': '18', 'strDrink': 'Mai Tai', 'dateModified': '2024-08-29T06:49:00'}\n",
            "Sent record: {'idDrink': '19', 'strDrink': 'Aviation', 'dateModified': '2024-08-29T06:50:00'}\n",
            "Sent record: {'idDrink': '20', 'strDrink': 'Mint Julep', 'dateModified': '2024-08-29T06:51:00'}\n"
          ]
        }
      ]
    }
  ]
}