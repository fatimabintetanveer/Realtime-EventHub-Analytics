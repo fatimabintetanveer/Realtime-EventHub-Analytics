{
 "cells": [
  {
   "cell_type": "code",
   "execution_count": 0,
   "metadata": {
    "application/vnd.databricks.v1+cell": {
     "cellMetadata": {
      "byteLimit": 2048000,
      "rowLimit": 10000
     },
     "inputWidgets": {},
     "nuid": "78128187-874b-4534-a6fb-7765e9a5cbcd",
     "showTitle": false,
     "title": ""
    }
   },
   "outputs": [
    {
     "output_type": "display_data",
     "data": {
      "text/html": [
       "<style scoped>\n",
       "  .ansiout {\n",
       "    display: block;\n",
       "    unicode-bidi: embed;\n",
       "    white-space: pre-wrap;\n",
       "    word-wrap: break-word;\n",
       "    word-break: break-all;\n",
       "    font-family: \"Menlo\", \"Monaco\", \"Consolas\", \"Ubuntu Mono\", \"Source Code Pro\", monospace;\n",
       "    font-size: 13px;\n",
       "    color: #555;\n",
       "    margin-left: 4px;\n",
       "    line-height: 19px;\n",
       "  }\n",
       "</style>\n",
       "<div class=\"ansiout\">Out[2]: True</div>"
      ]
     },
     "metadata": {
      "application/vnd.databricks.v1+output": {
       "addedWidgets": {},
       "arguments": {},
       "data": "<div class=\"ansiout\">Out[2]: True</div>",
       "datasetInfos": [],
       "metadata": {},
       "removedWidgets": [],
       "type": "html"
      }
     },
     "output_type": "display_data"
    }
   ],
   "source": [
    "configs = {\n",
    "  \"fs.azure.account.auth.type\": \"CustomAccessToken\",\n",
    "  \"fs.azure.account.custom.token.provider.class\": spark.conf.get(\"spark.databricks.passthrough.adls.gen2.tokenProviderClassName\")\n",
    "}\n",
    "\n",
    "# Optionally, you can add <directory-name> to the source URI of your mount point.\n",
    "dbutils.fs.mount(\n",
    "  source = \"abfss://streamingdata@datastreaming20.dfs.core.windows.net/\",\n",
    "  mount_point = \"/mnt/datastream\",\n",
    "  extra_configs = configs)"
   ]
  },
  {
   "cell_type": "code",
   "execution_count": 0,
   "metadata": {
    "application/vnd.databricks.v1+cell": {
     "cellMetadata": {
      "byteLimit": 2048000,
      "rowLimit": 10000
     },
     "inputWidgets": {},
     "nuid": "5a825a33-29b6-4dce-a352-e71517ad0fa5",
     "showTitle": false,
     "title": ""
    }
   },
   "outputs": [
    {
     "output_type": "display_data",
     "data": {
      "text/html": [
       "<style scoped>\n",
       "  .table-result-container {\n",
       "    max-height: 300px;\n",
       "    overflow: auto;\n",
       "  }\n",
       "  table, th, td {\n",
       "    border: 1px solid black;\n",
       "    border-collapse: collapse;\n",
       "  }\n",
       "  th, td {\n",
       "    padding: 5px;\n",
       "  }\n",
       "  th {\n",
       "    text-align: left;\n",
       "  }\n",
       "</style><div class='table-result-container'><table class='table-result'><thead style='background-color: white'><tr><th>idDrink</th><th>strDrink</th><th>dateModified</th></tr></thead><tbody><tr><td>1</td><td>Mojito</td><td>2024-08-29T06:32:00</td></tr><tr><td>2</td><td>Margarita</td><td>2024-08-29T06:33:00</td></tr><tr><td>3</td><td>Martini</td><td>2024-08-29T06:34:00</td></tr><tr><td>4</td><td>Old Fashioned</td><td>2024-08-29T06:35:00</td></tr><tr><td>5</td><td>Whiskey Sour</td><td>2024-08-29T06:36:00</td></tr><tr><td>6</td><td>Daiquiri</td><td>2024-08-29T06:37:00</td></tr><tr><td>7</td><td>Cosmopolitan</td><td>2024-08-29T06:38:00</td></tr><tr><td>8</td><td>Gin Tonic</td><td>2024-08-29T06:39:00</td></tr><tr><td>9</td><td>Negroni</td><td>2024-08-29T06:40:00</td></tr><tr><td>10</td><td>Mai Tai</td><td>2024-08-29T06:41:00</td></tr><tr><td>11</td><td>Caipirinha</td><td>2024-08-29T06:42:00</td></tr><tr><td>12</td><td>Tom Collins</td><td>2024-08-29T06:43:00</td></tr><tr><td>13</td><td>Bloody Mary</td><td>2024-08-29T06:44:00</td></tr><tr><td>14</td><td>Manhattan</td><td>2024-08-29T06:45:00</td></tr><tr><td>15</td><td>Sidecar</td><td>2024-08-29T06:46:00</td></tr><tr><td>16</td><td>Pina Colada</td><td>2024-08-29T06:47:00</td></tr><tr><td>17</td><td>Sazerac</td><td>2024-08-29T06:48:00</td></tr><tr><td>18</td><td>Mai Tai</td><td>2024-08-29T06:49:00</td></tr><tr><td>19</td><td>Aviation</td><td>2024-08-29T06:50:00</td></tr><tr><td>20</td><td>Mint Julep</td><td>2024-08-29T06:51:00</td></tr></tbody></table></div>"
      ]
     },
     "metadata": {
      "application/vnd.databricks.v1+output": {
       "addedWidgets": {},
       "aggData": [],
       "aggError": "",
       "aggOverflow": false,
       "aggSchema": [],
       "aggSeriesLimitReached": false,
       "aggType": "",
       "arguments": {},
       "columnCustomDisplayInfos": {},
       "data": [
        [
         "1",
         "Mojito",
         "2024-08-29T06:32:00"
        ],
        [
         "2",
         "Margarita",
         "2024-08-29T06:33:00"
        ],
        [
         "3",
         "Martini",
         "2024-08-29T06:34:00"
        ],
        [
         "4",
         "Old Fashioned",
         "2024-08-29T06:35:00"
        ],
        [
         "5",
         "Whiskey Sour",
         "2024-08-29T06:36:00"
        ],
        [
         "6",
         "Daiquiri",
         "2024-08-29T06:37:00"
        ],
        [
         "7",
         "Cosmopolitan",
         "2024-08-29T06:38:00"
        ],
        [
         "8",
         "Gin Tonic",
         "2024-08-29T06:39:00"
        ],
        [
         "9",
         "Negroni",
         "2024-08-29T06:40:00"
        ],
        [
         "10",
         "Mai Tai",
         "2024-08-29T06:41:00"
        ],
        [
         "11",
         "Caipirinha",
         "2024-08-29T06:42:00"
        ],
        [
         "12",
         "Tom Collins",
         "2024-08-29T06:43:00"
        ],
        [
         "13",
         "Bloody Mary",
         "2024-08-29T06:44:00"
        ],
        [
         "14",
         "Manhattan",
         "2024-08-29T06:45:00"
        ],
        [
         "15",
         "Sidecar",
         "2024-08-29T06:46:00"
        ],
        [
         "16",
         "Pina Colada",
         "2024-08-29T06:47:00"
        ],
        [
         "17",
         "Sazerac",
         "2024-08-29T06:48:00"
        ],
        [
         "18",
         "Mai Tai",
         "2024-08-29T06:49:00"
        ],
        [
         "19",
         "Aviation",
         "2024-08-29T06:50:00"
        ],
        [
         "20",
         "Mint Julep",
         "2024-08-29T06:51:00"
        ]
       ],
       "datasetInfos": [],
       "dbfsResultPath": null,
       "isJsonSchema": true,
       "metadata": {},
       "overflow": false,
       "plotOptions": {
        "customPlotOptions": {},
        "displayType": "table",
        "pivotAggregation": null,
        "pivotColumns": null,
        "xColumns": null,
        "yColumns": null
       },
       "removedWidgets": [],
       "schema": [
        {
         "metadata": "{}",
         "name": "idDrink",
         "type": "\"string\""
        },
        {
         "metadata": "{}",
         "name": "strDrink",
         "type": "\"string\""
        },
        {
         "metadata": "{}",
         "name": "dateModified",
         "type": "\"string\""
        }
       ],
       "type": "table"
      }
     },
     "output_type": "display_data"
    }
   ],
   "source": [
    "from pyspark.sql.types import *\n",
    "from pyspark.sql.functions import *\n",
    "\n",
    "json_schema = StructType(\n",
    "    [\n",
    "        StructField(\"idDrink\", StringType(), True),\n",
    "        StructField(\"strDrink\", StringType(), True),\n",
    "        StructField(\"dateModified\", StringType(), True),\n",
    "    ]\n",
    ")\n",
    "df = spark.read.format(\"avro\").load(\"/mnt/datastream/eh-datastreaming/eventhub-instance/0/2024/**/**/**/**/**.avro\")\n",
    "\n",
    "json_df = df.withColumn(\"Body\", from_json(df.Body.cast(\"string\"), json_schema))\n",
    "\n",
    "df3 = json_df.select(\n",
    "    col(\"Body.idDrink\"), col(\"Body.strDrink\"), col(\"Body.dateModified\")\n",
    ")\n",
    "\n",
    "display(df3)"
   ]
  }
 ],
 "metadata": {
  "application/vnd.databricks.v1+notebook": {
   "dashboards": [],
   "environmentMetadata": null,
   "language": "python",
   "notebookMetadata": {
    "pythonIndentUnit": 4
   },
   "notebookName": "eventhub-batchStreaming",
   "widgets": {}
  }
 },
 "nbformat": 4,
 "nbformat_minor": 0
}
