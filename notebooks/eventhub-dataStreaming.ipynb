{
 "cells": [
  {
   "cell_type": "code",
   "execution_count": 0,
   "metadata": {
    "application/vnd.databricks.v1+cell": {
     "cellMetadata": {
      "byteLimit": 2048000,
      "rowLimit": 10000
     },
     "inputWidgets": {},
     "nuid": "dadcaf5d-43a7-43a9-9ef8-1675abee977f",
     "showTitle": false,
     "title": ""
    }
   },
   "outputs": [
    {
     "output_type": "display_data",
     "data": {
      "text/html": [
       "<style scoped>\n",
       "  .table-result-container {\n",
       "    max-height: 300px;\n",
       "    overflow: auto;\n",
       "  }\n",
       "  table, th, td {\n",
       "    border: 1px solid black;\n",
       "    border-collapse: collapse;\n",
       "  }\n",
       "  th, td {\n",
       "    padding: 5px;\n",
       "  }\n",
       "  th {\n",
       "    text-align: left;\n",
       "  }\n",
       "</style><div class='table-result-container'><table class='table-result'><thead style='background-color: white'><tr><th>idDrink</th><th>strDrink</th><th>dateModified</th></tr></thead><tbody><tr><td>1</td><td>Mojito</td><td>2024-08-29T06:32:00</td></tr><tr><td>2</td><td>Margarita</td><td>2024-08-29T06:33:00</td></tr><tr><td>3</td><td>Martini</td><td>2024-08-29T06:34:00</td></tr><tr><td>4</td><td>Old Fashioned</td><td>2024-08-29T06:35:00</td></tr><tr><td>5</td><td>Whiskey Sour</td><td>2024-08-29T06:36:00</td></tr><tr><td>6</td><td>Daiquiri</td><td>2024-08-29T06:37:00</td></tr><tr><td>7</td><td>Cosmopolitan</td><td>2024-08-29T06:38:00</td></tr><tr><td>8</td><td>Gin Tonic</td><td>2024-08-29T06:39:00</td></tr><tr><td>9</td><td>Negroni</td><td>2024-08-29T06:40:00</td></tr><tr><td>10</td><td>Mai Tai</td><td>2024-08-29T06:41:00</td></tr><tr><td>11</td><td>Caipirinha</td><td>2024-08-29T06:42:00</td></tr><tr><td>12</td><td>Tom Collins</td><td>2024-08-29T06:43:00</td></tr><tr><td>13</td><td>Bloody Mary</td><td>2024-08-29T06:44:00</td></tr><tr><td>14</td><td>Manhattan</td><td>2024-08-29T06:45:00</td></tr><tr><td>15</td><td>Sidecar</td><td>2024-08-29T06:46:00</td></tr><tr><td>16</td><td>Pina Colada</td><td>2024-08-29T06:47:00</td></tr><tr><td>17</td><td>Sazerac</td><td>2024-08-29T06:48:00</td></tr><tr><td>18</td><td>Mai Tai</td><td>2024-08-29T06:49:00</td></tr><tr><td>19</td><td>Aviation</td><td>2024-08-29T06:50:00</td></tr><tr><td>20</td><td>Mint Julep</td><td>2024-08-29T06:51:00</td></tr></tbody></table></div>"
      ]
     },
     "metadata": {
      "application/vnd.databricks.v1+output": {
       "addedWidgets": {},
       "aggData": [],
       "aggError": "",
       "aggOverflow": false,
       "aggSchema": [],
       "aggSeriesLimitReached": false,
       "aggType": "",
       "arguments": {},
       "columnCustomDisplayInfos": {},
       "data": [
        [
         "1",
         "Mojito",
         "2024-08-29T06:32:00"
        ],
        [
         "2",
         "Margarita",
         "2024-08-29T06:33:00"
        ],
        [
         "3",
         "Martini",
         "2024-08-29T06:34:00"
        ],
        [
         "4",
         "Old Fashioned",
         "2024-08-29T06:35:00"
        ],
        [
         "5",
         "Whiskey Sour",
         "2024-08-29T06:36:00"
        ],
        [
         "6",
         "Daiquiri",
         "2024-08-29T06:37:00"
        ],
        [
         "7",
         "Cosmopolitan",
         "2024-08-29T06:38:00"
        ],
        [
         "8",
         "Gin Tonic",
         "2024-08-29T06:39:00"
        ],
        [
         "9",
         "Negroni",
         "2024-08-29T06:40:00"
        ],
        [
         "10",
         "Mai Tai",
         "2024-08-29T06:41:00"
        ],
        [
         "11",
         "Caipirinha",
         "2024-08-29T06:42:00"
        ],
        [
         "12",
         "Tom Collins",
         "2024-08-29T06:43:00"
        ],
        [
         "13",
         "Bloody Mary",
         "2024-08-29T06:44:00"
        ],
        [
         "14",
         "Manhattan",
         "2024-08-29T06:45:00"
        ],
        [
         "15",
         "Sidecar",
         "2024-08-29T06:46:00"
        ],
        [
         "16",
         "Pina Colada",
         "2024-08-29T06:47:00"
        ],
        [
         "17",
         "Sazerac",
         "2024-08-29T06:48:00"
        ],
        [
         "18",
         "Mai Tai",
         "2024-08-29T06:49:00"
        ],
        [
         "19",
         "Aviation",
         "2024-08-29T06:50:00"
        ],
        [
         "20",
         "Mint Julep",
         "2024-08-29T06:51:00"
        ]
       ],
       "datasetInfos": [],
       "dbfsResultPath": null,
       "isJsonSchema": true,
       "metadata": {
        "isDbfsCommandResult": false
       },
       "overflow": false,
       "plotOptions": {
        "customPlotOptions": {},
        "displayType": "table",
        "pivotAggregation": null,
        "pivotColumns": null,
        "xColumns": null,
        "yColumns": null
       },
       "removedWidgets": [],
       "schema": [
        {
         "metadata": "{}",
         "name": "idDrink",
         "type": "\"string\""
        },
        {
         "metadata": "{}",
         "name": "strDrink",
         "type": "\"string\""
        },
        {
         "metadata": "{}",
         "name": "dateModified",
         "type": "\"string\""
        }
       ],
       "type": "table"
      }
     },
     "output_type": "display_data"
    }
   ],
   "source": [
    "from pyspark.sql.types import *\n",
    "import pyspark.sql.functions as F\n",
    "\n",
    "connectionString = \"Endpoint=sab://eh-datastreaming.servicebus.windows.net/;SharedAccessKeyName=new-policy;SharedAccessKey=mBImRDXwku55SjWpBuRPYR/OcXnENJqxk+AEhGatZD0=;EntityPath=eventhub-instance\"\n",
    "ehConf = {}\n",
    "ehConf[\n",
    "    \"eventhubs.connectionString\"\n",
    "] = sc._jvm.org.apache.spark.eventhubs.EventHubsUtils.encrypt(connectionString)\n",
    "ehConf[\"eventhubs.consumerGroup\"] = \"$Default\"\n",
    "\n",
    "json_schema = StructType(\n",
    "    [\n",
    "        StructField(\"idDrink\", StringType(), True),\n",
    "        StructField(\"strDrink\", StringType(), True),\n",
    "        StructField(\"dateModified\", StringType(), True),\n",
    "    ]\n",
    ")\n",
    "df = spark.readStream.format(\"eventhubs\").options(**ehConf).load()\n",
    "\n",
    "json_df = df.withColumn(\"body\", F.from_json(df.body.cast(\"string\"), json_schema))\n",
    "\n",
    "df3 = json_df.select(\n",
    "    F.col(\"body.idDrink\"), F.col(\"body.strDrink\"), F.col(\"body.dateModified\")\n",
    ")\n",
    "\n",
    "display(df3)"
   ]
  }
 ],
 "metadata": {
  "application/vnd.databricks.v1+notebook": {
   "dashboards": [],
   "environmentMetadata": null,
   "language": "python",
   "notebookMetadata": {
    "pythonIndentUnit": 4
   },
   "notebookName": "eventhub-dataStreaming",
   "widgets": {}
  }
 },
 "nbformat": 4,
 "nbformat_minor": 0
}
